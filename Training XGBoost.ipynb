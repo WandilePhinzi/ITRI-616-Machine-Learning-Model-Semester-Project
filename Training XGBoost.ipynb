{
 "cells": [
  {
   "cell_type": "markdown",
   "id": "412e2606",
   "metadata": {},
   "source": [
    "Import necessary libraries for Training the model"
   ]
  },
  {
   "cell_type": "code",
   "execution_count": null,
   "id": "92019569",
   "metadata": {},
   "outputs": [],
   "source": [
    "import pandas as pd\n",
    "import numpy as np\n",
    "import xgboost as xgb\n",
    "from sklearn.model_selection import train_test_split, GridSearchCV\n",
    "from sklearn.metrics import (accuracy_score, f1_score,precision_score, recall_score, roc_auc_score, confusion_matrix)\n",
    "from sklearn.preprocessing import LabelEncoder\n",
    "import matplotlib.pyplot as plt\n",
    "import seaborn as sns\n",
    "from imblearn.over_sampling import SMOTE\n",
    "from sklearn.model_selection import StratifiedKFold,RandomizedSearchCV\n",
    "from sklearn.metrics import classification_report"
   ]
  },
  {
   "cell_type": "markdown",
   "id": "c76f0322",
   "metadata": {},
   "source": [
    "Loading the preprocessed data "
   ]
  },
  {
   "cell_type": "code",
   "execution_count": 2,
   "id": "e4a3bbba",
   "metadata": {},
   "outputs": [],
   "source": [
    "df = pd.read_csv(r\"C:\\Users\\Portia\\Documents\\Wandiles Document\\diabetic_data_cleaned.csv\")"
   ]
  },
  {
   "cell_type": "markdown",
   "id": "dcbd0a9f",
   "metadata": {},
   "source": [
    "Preparing the data for training"
   ]
  },
  {
   "cell_type": "code",
   "execution_count": 3,
   "id": "c213ded4",
   "metadata": {},
   "outputs": [],
   "source": [
    "df['target'] = df['readmitted_30'].apply(lambda x: 1 if x == 1 else 0)"
   ]
  },
  {
   "cell_type": "code",
   "execution_count": 4,
   "id": "f9bca2bb",
   "metadata": {},
   "outputs": [],
   "source": [
    "#Drops unnecessary columns\n",
    "cols_to_drop = ['patient_nbr', 'readmitted', 'weight', 'payer_code', 'medical_specialty', 'readmitted_30', 'readmitted_any']\n",
    "cols_to_drop = [col for col in cols_to_drop if col in df.columns]\n",
    "df = df.drop(cols_to_drop, axis=1)"
   ]
  },
  {
   "cell_type": "code",
   "execution_count": 5,
   "id": "cb74b226",
   "metadata": {},
   "outputs": [],
   "source": [
    "#converts categorical variables to numerical\n",
    "cat_cols = df.select_dtypes(include=['object']).columns\n",
    "for col in cat_cols:\n",
    "    le = LabelEncoder()\n",
    "    df[col] = le.fit_transform(df[col].astype(str))"
   ]
  },
  {
   "cell_type": "markdown",
   "id": "c13e6254",
   "metadata": {},
   "source": [
    "Training the model using Train-Test split of (70-30)"
   ]
  },
  {
   "cell_type": "code",
   "execution_count": 6,
   "id": "347865d6",
   "metadata": {},
   "outputs": [],
   "source": [
    "X = df.drop('target', axis=1)\n",
    "y = df['target']"
   ]
  },
  {
   "cell_type": "code",
   "execution_count": 7,
   "id": "b7f5fc64",
   "metadata": {},
   "outputs": [
    {
     "name": "stdout",
     "output_type": "stream",
     "text": [
      "Training samples: 71236\n",
      "Testing samples: 30530\n",
      "Class distribution in training set: \n",
      "target\n",
      "0    0.888399\n",
      "1    0.111601\n",
      "Name: proportion, dtype: float64\n"
     ]
    }
   ],
   "source": [
    "X_train, X_test, y_train, y_test = train_test_split(\n",
    "    X, y, test_size=0.3, random_state=42, stratify=y\n",
    ")\n",
    "\n",
    "print(f\"Training samples: {len(X_train)}\")\n",
    "print(f\"Testing samples: {len(X_test)}\")\n",
    "print(f\"Class distribution in training set: \\n{y_train.value_counts(normalize=True)}\")"
   ]
  },
  {
   "cell_type": "code",
   "execution_count": 8,
   "id": "d9193049",
   "metadata": {},
   "outputs": [],
   "source": [
    "#   Initializing the XGBoost model\n",
    "xgb_model = xgb.XGBClassifier(\n",
    "    objective='binary:logistic',\n",
    "    eval_metric='logloss',\n",
    "    use_label_encoder=False,\n",
    "    random_state=42\n",
    ")"
   ]
  },
  {
   "cell_type": "code",
   "execution_count": 9,
   "id": "86902548",
   "metadata": {},
   "outputs": [],
   "source": [
    "#handling class imbalance using SMOTE\n",
    "smote = SMOTE(random_state=42)\n",
    "X_train_res, y_train_res = smote.fit_resample(X_train, y_train)"
   ]
  },
  {
   "cell_type": "code",
   "execution_count": null,
   "id": "8dddd015",
   "metadata": {},
   "outputs": [],
   "source": [
    "param_grid = {\n",
    "    'n_estimators': [100],       # Skip 200 (faster training)\n",
    "    'max_depth': [3, 5],         # Depth 7 is too slow\n",
    "    'learning_rate': [0.1],      # Skip 0.01 (requires more trees)\n",
    "    'subsample': [0.8]           # Remove 1.0\n",
    "}"
   ]
  },
  {
   "cell_type": "code",
   "execution_count": 11,
   "id": "24f423ec",
   "metadata": {},
   "outputs": [],
   "source": [
    "cv = StratifiedKFold(n_splits=5, shuffle=True, random_state=42)"
   ]
  },
  {
   "cell_type": "code",
   "execution_count": null,
   "id": "cd8bf93c",
   "metadata": {},
   "outputs": [],
   "source": [
    "\n",
    "\n",
    "random_search = RandomizedSearchCV(\n",
    "    estimator=xgb_model,\n",
    "    param_distributions=param_grid,\n",
    "    n_iter=5,           # Test only 5 random combos (vs 32)\n",
    "    cv=3,               # Reduce from 5-fold to 3-fold\n",
    "    n_jobs=1,           # Avoid overloading your Core i3\n",
    "    verbose=3\n",
    ")"
   ]
  },
  {
   "cell_type": "code",
   "execution_count": null,
   "id": "bdbab846",
   "metadata": {},
   "outputs": [
    {
     "name": "stdout",
     "output_type": "stream",
     "text": [
      "Starting grid search\n",
      "Fitting 5 folds for each of 972 candidates, totalling 4860 fits\n"
     ]
    }
   ],
   "source": [
    "#Performing grid search\n",
    "print(\"Starting grid search\")\n",
    "grid_search.fit(X_train_res, y_train_res)"
   ]
  },
  {
   "cell_type": "code",
   "execution_count": null,
   "id": "8412b767",
   "metadata": {},
   "outputs": [],
   "source": [
    "best_model = grid_search.best_estimator_"
   ]
  }
 ],
 "metadata": {
  "kernelspec": {
   "display_name": "Python 3",
   "language": "python",
   "name": "python3"
  },
  "language_info": {
   "codemirror_mode": {
    "name": "ipython",
    "version": 3
   },
   "file_extension": ".py",
   "mimetype": "text/x-python",
   "name": "python",
   "nbconvert_exporter": "python",
   "pygments_lexer": "ipython3",
   "version": "3.12.10"
  }
 },
 "nbformat": 4,
 "nbformat_minor": 5
}
