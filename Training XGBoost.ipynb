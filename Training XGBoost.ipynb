{
 "cells": [
  {
   "cell_type": "markdown",
   "id": "412e2606",
   "metadata": {},
   "source": [
    "Import necessary libraries for Training the model"
   ]
  },
  {
   "cell_type": "code",
   "execution_count": null,
   "id": "92019569",
   "metadata": {},
   "outputs": [],
   "source": [
    "import pandas as pd\n",
    "import numpy as np\n",
    "import xgboost as xgb\n",
    "from sklearn.model_selection import train_test_split, GridSearchCV\n",
    "from sklearn.metrics import (accuracy_score, f1_score,precision_score, recall_score, roc_auc_score, confusion_matrix)\n"
   ]
  },
  {
   "cell_type": "markdown",
   "id": "c76f0322",
   "metadata": {},
   "source": [
    "Loading the preprocessed data "
   ]
  },
  {
   "cell_type": "code",
   "execution_count": null,
   "id": "e4a3bbba",
   "metadata": {},
   "outputs": [],
   "source": [
    "df=pd.read_csv('diabetic_data_cleaned.csv')"
   ]
  },
  {
   "cell_type": "markdown",
   "id": "dcbd0a9f",
   "metadata": {},
   "source": [
    "Preparing the data for training"
   ]
  },
  {
   "cell_type": "code",
   "execution_count": null,
   "id": "c213ded4",
   "metadata": {},
   "outputs": [],
   "source": [
    "df['target'] = df['readmitted'].apply(lambda x: 1 if x == '<30' else 0)"
   ]
  },
  {
   "cell_type": "code",
   "execution_count": null,
   "id": "f9bca2bb",
   "metadata": {},
   "outputs": [],
   "source": [
    "#Drops unnecessary columns\n",
    "cols_to_drop = ['encounter_id', 'patient_nbr', 'readmitted', 'weight', 'payer_code', 'medical_specialty']\n",
    "df = df.drop(cols_to_drop, axis=1)"
   ]
  },
  {
   "cell_type": "code",
   "execution_count": null,
   "id": "cb74b226",
   "metadata": {},
   "outputs": [],
   "source": [
    "#converts categorical variables to numerical\n",
    "cat_cols = df.select_dtypes(include=['object']).columns\n",
    "for col in cat_cols:\n",
    "    le = LabelEncoder()\n",
    "    df[col] = le.fit_transform(df[col].astype(str))"
   ]
  },
  {
   "cell_type": "markdown",
   "id": "c13e6254",
   "metadata": {},
   "source": [
    "Training the model using Train-Test split of (70-30)"
   ]
  },
  {
   "cell_type": "code",
   "execution_count": null,
   "id": "347865d6",
   "metadata": {},
   "outputs": [],
   "source": [
    "X = df.drop('target', axis=1)\n",
    "y = df['target']"
   ]
  },
  {
   "cell_type": "code",
   "execution_count": null,
   "id": "b7f5fc64",
   "metadata": {},
   "outputs": [],
   "source": [
    "X_train, X_test, y_train, y_test = train_test_split(\n",
    "    X, y, test_size=0.3, random_state=42, stratify=y\n",
    ")\n",
    "\n",
    "print(f\"Training samples: {len(X_train)}\")\n",
    "print(f\"Testing samples: {len(X_test)}\")\n",
    "print(f\"Class distribution in training set: \\n{y_train.value_counts(normalize=True)}\")"
   ]
  }
 ],
 "metadata": {
  "kernelspec": {
   "display_name": "Python 3",
   "language": "python",
   "name": "python3"
  },
  "language_info": {
   "codemirror_mode": {
    "name": "ipython",
    "version": 3
   },
   "file_extension": ".py",
   "mimetype": "text/x-python",
   "name": "python",
   "nbconvert_exporter": "python",
   "pygments_lexer": "ipython3",
   "version": "3.12.10"
  }
 },
 "nbformat": 4,
 "nbformat_minor": 5
}
